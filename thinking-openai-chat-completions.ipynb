{
 "cells": [
  {
   "cell_type": "markdown",
   "id": "bbdd6621",
   "metadata": {},
   "source": [
    "### Documentation: https://cloud.google.com/vertex-ai/generative-ai/docs/samples/generativeaionvertexai-gemini-chat-completions-non-streaming"
   ]
  },
  {
   "cell_type": "code",
   "execution_count": 67,
   "id": "5979a0ff",
   "metadata": {},
   "outputs": [],
   "source": [
    "from google.auth import default\n",
    "import google.auth.transport.requests\n",
    "\n",
    "import openai\n",
    "\n",
    "# TODO(developer): Update and un-comment below lines\n",
    "project_id = \"wortz-project-352116\"\n",
    "location = \"us-central1\"\n",
    "\n",
    "# Programmatically get an access token\n",
    "credentials, _ = default(scopes=[\"https://www.googleapis.com/auth/cloud-platform\"])\n",
    "credentials.refresh(google.auth.transport.requests.Request())\n",
    "\n",
    "# OpenAI Client\n",
    "client = openai.OpenAI(\n",
    "    base_url=f\"https://{location}-aiplatform.googleapis.com/v1/projects/{project_id}/locations/{location}/endpoints/openapi\",\n",
    "    api_key=credentials.token,\n",
    ")\n",
    "model = \"google/gemini-2.5-flash-preview-05-20\"\n",
    "# model = \"google/gemini-2.5-pro-preview-06-05\"\n",
    "message = [{\"role\": \"user\", \"content\": \"Why is the sky blue?\"}]"
   ]
  },
  {
   "cell_type": "code",
   "execution_count": 72,
   "id": "136bc0d6",
   "metadata": {},
   "outputs": [
    {
     "name": "stdout",
     "output_type": "stream",
     "text": [
      "ChatCompletion(id='2025-06-12|16:00:13.212112-07|0.160.55.138|1677872813', choices=[Choice(finish_reason='stop', index=0, logprobs=None, message=ChatCompletionMessage(content='The sky is blue primarily due to a phenomenon called **Rayleigh scattering**. Here\\'s a breakdown of how it works:\\n\\n1.  **Sunlight is White Light:** The light from the sun, which appears white to us, is actually made up of all the colors of the rainbow. Each color corresponds to a different wavelength (from shorter wavelength violet/blue to longer wavelength red/orange).\\n\\n2.  **Earth\\'s Atmosphere:** Our atmosphere is composed of tiny gas molecules (like nitrogen and oxygen) and small particles.\\n\\n3.  **Light Scattering:** When sunlight enters Earth\\'s atmosphere, it encounters these tiny molecules and particles. This interaction causes the light to be \"scattered\" or redirected in all directions.\\n\\n4.  **Wavelength Matters (Rayleigh Scattering):**\\n    *   Rayleigh scattering states that **shorter wavelengths of light (like blue and violet)** are scattered much more efficiently than longer wavelengths (like red and orange).\\n    *   Think of it like waves hitting obstacles: small, short waves (blue light) are easily deflected by tiny obstacles (air molecules), while longer, bigger waves (red light) tend to pass around them more easily. Blue light is scattered about 10 times more efficiently than red light!\\n\\n5.  **Why We See Blue:**\\n    *   As sunlight travels through the atmosphere, a large amount of the blue and violet light is scattered in every direction.\\n    *   When you look up at the sky, you are seeing this scattered blue light coming from all angles, making the sky appear blue.\\n    *   (You might wonder why it\\'s not violet, since violet light has an even shorter wavelength. This is because the sun emits slightly less violet light than blue light, and our eyes are also less sensitive to violet light than to blue.)\\n\\n6.  **What About Other Colors?**\\n    *   The longer wavelengths (yellow, orange, red) are scattered much less by the atmosphere and tend to travel more directly through it.\\n    *   This is why, at sunrise and sunset, when the sunlight has to travel through much more of the atmosphere to reach our eyes, most of the blue and violet light has been scattered away. This leaves primarily the longer-wavelength reds, oranges, and yellows to color the sky.', refusal=None, role='assistant', annotations=None, audio=None, function_call=None, tool_calls=None))], created=1749769213, model='google/gemini-2.5-flash-preview-05-20', object='chat.completion', service_tier=None, system_fingerprint='', usage=CompletionUsage(completion_tokens=478, prompt_tokens=6, total_tokens=1626, completion_tokens_details=CompletionTokensDetails(accepted_prediction_tokens=None, audio_tokens=None, reasoning_tokens=1142, rejected_prediction_tokens=None), prompt_tokens_details=None))\n"
     ]
    }
   ],
   "source": [
    "response = client.chat.completions.create(\n",
    "    model=model,\n",
    "    messages=message,\n",
    "    seed=42,\n",
    ")\n",
    "\n",
    "\n",
    "print(response)"
   ]
  },
  {
   "cell_type": "markdown",
   "id": "fa08d40e",
   "metadata": {},
   "source": [
    "#### OpenAI API only has enum setting for reasoning token budget: \n",
    "\n",
    "```python\n",
    "ReasoningEffort: TypeAlias = Optional[Literal[\"low\", \"medium\", \"high\"]]\n",
    "\n",
    "```"
   ]
  },
  {
   "cell_type": "code",
   "execution_count": 74,
   "id": "baef331d",
   "metadata": {},
   "outputs": [],
   "source": [
    "response_low_thinking = client.chat.completions.create(\n",
    "    model=model,\n",
    "    messages=message,\n",
    "    reasoning_effort=\"low\",\n",
    "    seed=42,\n",
    ")"
   ]
  },
  {
   "cell_type": "code",
   "execution_count": 75,
   "id": "8a6714b6",
   "metadata": {},
   "outputs": [
    {
     "name": "stdout",
     "output_type": "stream",
     "text": [
      "ChatCompletion(id='2025-06-12|16:00:29.932475-07|0.160.23.192|1426829441', choices=[Choice(finish_reason='stop', index=0, logprobs=None, message=ChatCompletionMessage(content='The sky appears blue because of a phenomenon called **Rayleigh scattering**. Here\\'s a breakdown:\\n\\n1.  **Sunlight is White Light:** Sunlight, as it reaches Earth, appears white (or slightly yellowish) to our eyes. However, it\\'s actually made up of all the colors of the rainbow, each with a different wavelength.\\n    *   **Shortest Wavelengths:** Violet and Blue\\n    *   **Medium Wavelengths:** Green, Yellow\\n    *   **Longest Wavelengths:** Orange and Red\\n\\n2.  **Earth\\'s Atmosphere:** Our atmosphere is composed of tiny gas molecules (primarily nitrogen and oxygen) and small dust particles. These molecules are much smaller than the wavelengths of visible light.\\n\\n3.  **The Scattering Process (Rayleigh Scattering):** When sunlight enters the atmosphere, it collides with these tiny molecules.\\n    *   **Wavelength Dependence:** Shorter wavelengths of light (like blue and violet) are scattered *much more effectively* in all directions by these small particles than longer wavelengths (like red and yellow). In fact, blue light is scattered about 10 times more than red light.\\n    *   **Why not Violet?** While violet light has an even shorter wavelength than blue and is scattered more, there are a few reasons why we don\\'t see a violet sky:\\n        *   The sun emits less violet light than blue light.\\n        *   Our eyes are more sensitive to blue light than violet light.\\n        *   Some of the violet light is scattered away *above* our heads, and some is absorbed.\\n\\n4.  **Why We See Blue:** Because blue and violet light are scattered in all directions, no matter where you look in the sky, you\\'re seeing blue light that has been bounced around by the atmospheric molecules. This scattered blue light reaches our eyes from all parts of the sky, making it appear blue.\\n\\n**In essence:** The blue light from the sun is \"splashed\" across the sky, while the other colors pass through the atmosphere more directly.\\n\\n**Related Phenomena:**\\n\\n*   **Why Sunsets and Sunrises are Red/Orange:** When the sun is low on the horizon, its light has to travel through a much thicker layer of the atmosphere. By the time the light reaches our eyes, most of the blue and violet light has been scattered away, leaving primarily the longer wavelengths (red, orange, yellow) to be seen directly from the sun.\\n*   **Why Space is Black:** There\\'s no atmosphere in space to scatter sunlight, so there\\'s nothing to make it appear blue.', refusal=None, role='assistant', annotations=None, audio=None, function_call=None, tool_calls=None))], created=1749769229, model='google/gemini-2.5-flash-preview-05-20', object='chat.completion', service_tier=None, system_fingerprint='', usage=CompletionUsage(completion_tokens=537, prompt_tokens=6, total_tokens=1428, completion_tokens_details=CompletionTokensDetails(accepted_prediction_tokens=None, audio_tokens=None, reasoning_tokens=885, rejected_prediction_tokens=None), prompt_tokens_details=None))\n"
     ]
    }
   ],
   "source": [
    "print(response_low_thinking)"
   ]
  },
  {
   "cell_type": "code",
   "execution_count": null,
   "id": "2b07ed22",
   "metadata": {},
   "outputs": [
    {
     "name": "stdout",
     "output_type": "stream",
     "text": [
      "Thinking tokens with low thinking:  885\n",
      "Thinking tokens with default thinking:  1142\n"
     ]
    }
   ],
   "source": [
    "print(\n",
    "    \"Thinking tokens with low thinking: \",\n",
    "    response_low_thinking.usage.completion_tokens_details.reasoning_tokens,\n",
    ")\n",
    "print(\n",
    "    \"Thinking tokens with default thinking: \",\n",
    "    response.usage.completion_tokens_details.reasoning_tokens,\n",
    ")"
   ]
  },
  {
   "cell_type": "markdown",
   "id": "7fcd4938",
   "metadata": {},
   "source": [
    "# Setting lower max tokens to check on proportionality of reasoning tokens"
   ]
  },
  {
   "cell_type": "code",
   "execution_count": 87,
   "id": "9c2d7f40",
   "metadata": {},
   "outputs": [],
   "source": [
    "response_low_thinking_token_limit = client.chat.completions.create(\n",
    "    model=model,\n",
    "    messages=message,\n",
    "    reasoning_effort=\"low\",\n",
    "    max_completion_tokens=1200,\n",
    "    seed=42,\n",
    ")\n",
    "response_token_limit = client.chat.completions.create(\n",
    "    model=model,\n",
    "    messages=message,\n",
    "    max_completion_tokens=1200,\n",
    "    seed=42,\n",
    ")"
   ]
  },
  {
   "cell_type": "code",
   "execution_count": 88,
   "id": "8bc893a1",
   "metadata": {},
   "outputs": [
    {
     "name": "stdout",
     "output_type": "stream",
     "text": [
      "ChatCompletion(id='2025-06-12|16:03:25.714041-07|0.160.22.242|336957083', choices=[Choice(finish_reason='length', index=0, logprobs=None, message=ChatCompletionMessage(content=\"The sky appears blue because of a phenomenon called **Rayleigh scattering**. Here's a breakdown:\\n\\n1.  **Sunlight is White Light:** Sunlight, which appears white to us, is actually made up of all the colors of the rainbow (red, orange, yellow, green, blue, indigo, violet). Each color has a different wavelength – red has the longest wavelength, and violet/blue have the shortest.\\n\\n2.  **Earth's Atmosphere:** Our atmosphere is made of tiny gas molecules, primarily nitrogen (about 78%) and oxygen (about 21%), as well as some dust and water vapor.\\n\\n3.  **Scattering:** When sunlight enters the atmosphere, it collides with these tiny gas molecules. This collision causes the light to be scattered in all directions.\\n\\n4.  **Wavelength Matters (Rayleigh Scattering):** The key is that *shorter wavelengths* (like blue and\", refusal=None, role='assistant', annotations=None, audio=None, function_call=None, tool_calls=None))], created=1749769405, model='google/gemini-2.5-flash-preview-05-20', object='chat.completion', service_tier=None, system_fingerprint='', usage=CompletionUsage(completion_tokens=190, prompt_tokens=6, total_tokens=1202, completion_tokens_details=CompletionTokensDetails(accepted_prediction_tokens=None, audio_tokens=None, reasoning_tokens=1006, rejected_prediction_tokens=None), prompt_tokens_details=None))\n",
      "ChatCompletion(id='2025-06-12|16:03:17.316161-07|0.160.21.75|287411641', choices=[Choice(finish_reason='length', index=0, logprobs=None, message=ChatCompletionMessage(content='The sky appears blue primarily due to a phenomenon called **Rayleigh Scattering**. Here\\'s a breakdown:\\n\\n1.  **Sunlight is White Light (but it\\'s not!):**\\n    Sunlight, which appears white to our eyes, is actually made up of all the colors of the rainbow (a spectrum of visible light: Red, Orange, Yellow, Green, Blue, Indigo, Violet). Each color has a different **wavelength** – red has the longest wavelength, and violet/blue have the shortest.\\n\\n2.  **Earth\\'s Atmosphere:**\\n    Our atmosphere is composed of tiny molecules of gases, primarily nitrogen (N2) and oxygen (O2), along with small amounts of argon, carbon dioxide, and water vapor. These molecules are much smaller than the wavelength of visible light.\\n\\n3.  **Rayleigh Scattering in Action:**\\n    When sunlight enters the Earth\\'s atmosphere, it interacts with these tiny gas molecules.\\n    *   **Shorter wavelengths (like blue and violet light) are scattered much more effectively** than longer wavelengths (like red and yellow light). This is because the tiny gas molecules are more efficient at scattering light waves that have wavelengths similar to or shorter than their own size. The scattering intensity is inversely proportional to the fourth power of the wavelength (1/λ⁴), meaning blue light is scattered about 10 times more than red light!\\n    *   **Longer wavelengths** (red, orange, yellow) tend to pass straight through the atmosphere with much less scattering.\\n\\n4.  **Why Blue, Not Violet?**\\n    You might ask, \"If violet light has an even shorter wavelength than blue, why isn\\'t the sky violet?\"\\n    *   While violet light is scattered *more* than blue,', refusal=None, role='assistant', annotations=None, audio=None, function_call=None, tool_calls=None))], created=1749769397, model='google/gemini-2.5-flash-preview-05-20', object='chat.completion', service_tier=None, system_fingerprint='', usage=CompletionUsage(completion_tokens=365, prompt_tokens=6, total_tokens=1199, completion_tokens_details=CompletionTokensDetails(accepted_prediction_tokens=None, audio_tokens=None, reasoning_tokens=828, rejected_prediction_tokens=None), prompt_tokens_details=None))\n"
     ]
    }
   ],
   "source": [
    "print(response_token_limit)\n",
    "print(response_low_thinking_token_limit)"
   ]
  },
  {
   "cell_type": "code",
   "execution_count": null,
   "id": "041f4cde",
   "metadata": {},
   "outputs": [
    {
     "name": "stdout",
     "output_type": "stream",
     "text": [
      "Thinking tokens with low thinking + token limit:  828\n",
      "Thinking tokens with default thinking + token limit:  1006\n"
     ]
    }
   ],
   "source": [
    "print(\n",
    "    \"Thinking tokens with low thinking + token limit: \",\n",
    "    response_low_thinking_token_limit.usage.completion_tokens_details.reasoning_tokens,\n",
    ")\n",
    "print(\n",
    "    \"Thinking tokens with default thinking + token limit: \",\n",
    "    response_token_limit.usage.completion_tokens_details.reasoning_tokens,\n",
    ")"
   ]
  }
 ],
 "metadata": {
  "kernelspec": {
   "display_name": ".venv",
   "language": "python",
   "name": "python3"
  },
  "language_info": {
   "codemirror_mode": {
    "name": "ipython",
    "version": 3
   },
   "file_extension": ".py",
   "mimetype": "text/x-python",
   "name": "python",
   "nbconvert_exporter": "python",
   "pygments_lexer": "ipython3",
   "version": "3.12.2"
  }
 },
 "nbformat": 4,
 "nbformat_minor": 5
}
